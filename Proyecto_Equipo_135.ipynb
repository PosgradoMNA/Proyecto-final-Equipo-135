{
  "nbformat": 4,
  "nbformat_minor": 0,
  "metadata": {
    "colab": {
      "provenance": [],
      "collapsed_sections": [],
      "authorship_tag": "ABX9TyNuUMA0j26hu5DPwL9P9Iot",
      "include_colab_link": true
    },
    "kernelspec": {
      "name": "python3",
      "display_name": "Python 3"
    },
    "language_info": {
      "name": "python"
    }
  },
  "cells": [
    {
      "cell_type": "markdown",
      "metadata": {
        "id": "view-in-github",
        "colab_type": "text"
      },
      "source": [
        "<a href=\"https://colab.research.google.com/github/PosgradoMNA/actividades-del-projecto-equipo-135/blob/main/Proyecto_Equipo_135.ipynb\" target=\"_parent\"><img src=\"https://colab.research.google.com/assets/colab-badge.svg\" alt=\"Open In Colab\"/></a>"
      ]
    },
    {
      "cell_type": "markdown",
      "source": [
        "![tec.jpeg](data:image/jpeg;base64,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)\n",
        "\n",
        "# **Proyecto Final - Avance 1**\n"
      ],
      "metadata": {
        "id": "At9_0DEew3FY"
      }
    },
    {
      "cell_type": "markdown",
      "source": [
        "---\n",
        "\n",
        "###Equipo 135\n",
        "\n",
        "######Matrícula **A01793683** - *Emmanuel Domínguez*\n",
        "######Matrícula **A01793546** - *José Ariel Corral León*\n",
        "---\n",
        "\n"
      ],
      "metadata": {
        "id": "hkCKD7D4yyvd"
      }
    },
    {
      "cell_type": "markdown",
      "source": [
        "**Estudio de base de datos relacionados a un problema económico**\n"
      ],
      "metadata": {
        "id": "3q54jf75y1c9"
      }
    },
    {
      "cell_type": "markdown",
      "source": [
        "\n",
        "**1) Nombre que caracteriza el conjunto de datos**\n",
        "\n",
        "*Commodity Prices Dataset (2000 - 2022)*\n"
      ],
      "metadata": {
        "id": "rV0IQq26y4_z"
      }
    },
    {
      "cell_type": "markdown",
      "source": [
        "**2) Organización que lo generó.**\n",
        "\n",
        "*Generada por fuentes múltiples en Internet de acuerdo al sitio de Kaggle.*\n",
        "\n",
        "https://www.kaggle.com/datasets/debashish311601/commodity-prices\n"
      ],
      "metadata": {
        "id": "8QbEwbiZz5f0"
      }
    },
    {
      "cell_type": "markdown",
      "source": [
        "**3) Enlace de Internet donde se puedan descargar el base de datos en línea**\n",
        "\n",
        "*Liga a base de datos en Kaggle*\n",
        "\n",
        "https://www.kaggle.com/datasets/debashish311601/commodity-prices\n"
      ],
      "metadata": {
        "id": "SNM1iE02zZYw"
      }
    },
    {
      "cell_type": "code",
      "source": [
        "import numpy as np \n",
        "import pandas as pd \n",
        "import os\n",
        "for dirname, _, filenames in os.walk('/kaggle/input'):\n",
        "    for filename in filenames:\n",
        "        print(os.path.join(dirname, filename))"
      ],
      "metadata": {
        "id": "CRUfiBMd7ETX"
      },
      "execution_count": 32,
      "outputs": []
    },
    {
      "cell_type": "code",
      "source": [
        "Commodity = pd.read_csv(\"/content/sample_data/commodity_futures.csv\",\"r\")\n",
        "Commodity.describe()"
      ],
      "metadata": {
        "colab": {
          "base_uri": "https://localhost:8080/",
          "height": 291
        },
        "id": "FdZ5UVp97pH7",
        "outputId": "d8ac83de-b11a-49b7-f338-33f9271b54ea"
      },
      "execution_count": 33,
      "outputs": [
        {
          "output_type": "stream",
          "name": "stderr",
          "text": [
            "/usr/local/lib/python3.7/dist-packages/IPython/core/interactiveshell.py:3326: FutureWarning: In a future version of pandas all arguments of read_csv except for the argument 'filepath_or_buffer' will be keyword-only\n",
            "  exec(code_obj, self.user_global_ns, self.user_ns)\n"
          ]
        },
        {
          "output_type": "execute_result",
          "data": {
            "text/plain": [
              "       Date,NATURAL GAS,GOLD,WTI CRUDE,BRENT CRUDE,SOYBEANS,CORN,COPPER,SILVER,LOW SULPHUR GAS OIL,LIVE CATTLE,SOYBEAN OIL,ALUMINIUM,SOYBEAN MEAL,ZINC,ULS DIESEL,NICKEL,WHEAT,SUGAR,GASOLINE,COFFEE,LEAN HOGS,HRW WHEAT,COTTON\n",
              "count                                                5868                                                                                                                                                                      \n",
              "unique                                               5868                                                                                                                                                                      \n",
              "top     2000-01-03,,,,,456.5,200.75,,,,69.7,15.44,,146...                                                                                                                                                                      \n",
              "freq                                                    1                                                                                                                                                                      "
            ],
            "text/html": [
              "\n",
              "  <div id=\"df-323e3b71-2456-468a-97bd-310b6c4fe516\">\n",
              "    <div class=\"colab-df-container\">\n",
              "      <div>\n",
              "<style scoped>\n",
              "    .dataframe tbody tr th:only-of-type {\n",
              "        vertical-align: middle;\n",
              "    }\n",
              "\n",
              "    .dataframe tbody tr th {\n",
              "        vertical-align: top;\n",
              "    }\n",
              "\n",
              "    .dataframe thead th {\n",
              "        text-align: right;\n",
              "    }\n",
              "</style>\n",
              "<table border=\"1\" class=\"dataframe\">\n",
              "  <thead>\n",
              "    <tr style=\"text-align: right;\">\n",
              "      <th></th>\n",
              "      <th>Date,NATURAL GAS,GOLD,WTI CRUDE,BRENT CRUDE,SOYBEANS,CORN,COPPER,SILVER,LOW SULPHUR GAS OIL,LIVE CATTLE,SOYBEAN OIL,ALUMINIUM,SOYBEAN MEAL,ZINC,ULS DIESEL,NICKEL,WHEAT,SUGAR,GASOLINE,COFFEE,LEAN HOGS,HRW WHEAT,COTTON</th>\n",
              "    </tr>\n",
              "  </thead>\n",
              "  <tbody>\n",
              "    <tr>\n",
              "      <th>count</th>\n",
              "      <td>5868</td>\n",
              "    </tr>\n",
              "    <tr>\n",
              "      <th>unique</th>\n",
              "      <td>5868</td>\n",
              "    </tr>\n",
              "    <tr>\n",
              "      <th>top</th>\n",
              "      <td>2000-01-03,,,,,456.5,200.75,,,,69.7,15.44,,146...</td>\n",
              "    </tr>\n",
              "    <tr>\n",
              "      <th>freq</th>\n",
              "      <td>1</td>\n",
              "    </tr>\n",
              "  </tbody>\n",
              "</table>\n",
              "</div>\n",
              "      <button class=\"colab-df-convert\" onclick=\"convertToInteractive('df-323e3b71-2456-468a-97bd-310b6c4fe516')\"\n",
              "              title=\"Convert this dataframe to an interactive table.\"\n",
              "              style=\"display:none;\">\n",
              "        \n",
              "  <svg xmlns=\"http://www.w3.org/2000/svg\" height=\"24px\"viewBox=\"0 0 24 24\"\n",
              "       width=\"24px\">\n",
              "    <path d=\"M0 0h24v24H0V0z\" fill=\"none\"/>\n",
              "    <path d=\"M18.56 5.44l.94 2.06.94-2.06 2.06-.94-2.06-.94-.94-2.06-.94 2.06-2.06.94zm-11 1L8.5 8.5l.94-2.06 2.06-.94-2.06-.94L8.5 2.5l-.94 2.06-2.06.94zm10 10l.94 2.06.94-2.06 2.06-.94-2.06-.94-.94-2.06-.94 2.06-2.06.94z\"/><path d=\"M17.41 7.96l-1.37-1.37c-.4-.4-.92-.59-1.43-.59-.52 0-1.04.2-1.43.59L10.3 9.45l-7.72 7.72c-.78.78-.78 2.05 0 2.83L4 21.41c.39.39.9.59 1.41.59.51 0 1.02-.2 1.41-.59l7.78-7.78 2.81-2.81c.8-.78.8-2.07 0-2.86zM5.41 20L4 18.59l7.72-7.72 1.47 1.35L5.41 20z\"/>\n",
              "  </svg>\n",
              "      </button>\n",
              "      \n",
              "  <style>\n",
              "    .colab-df-container {\n",
              "      display:flex;\n",
              "      flex-wrap:wrap;\n",
              "      gap: 12px;\n",
              "    }\n",
              "\n",
              "    .colab-df-convert {\n",
              "      background-color: #E8F0FE;\n",
              "      border: none;\n",
              "      border-radius: 50%;\n",
              "      cursor: pointer;\n",
              "      display: none;\n",
              "      fill: #1967D2;\n",
              "      height: 32px;\n",
              "      padding: 0 0 0 0;\n",
              "      width: 32px;\n",
              "    }\n",
              "\n",
              "    .colab-df-convert:hover {\n",
              "      background-color: #E2EBFA;\n",
              "      box-shadow: 0px 1px 2px rgba(60, 64, 67, 0.3), 0px 1px 3px 1px rgba(60, 64, 67, 0.15);\n",
              "      fill: #174EA6;\n",
              "    }\n",
              "\n",
              "    [theme=dark] .colab-df-convert {\n",
              "      background-color: #3B4455;\n",
              "      fill: #D2E3FC;\n",
              "    }\n",
              "\n",
              "    [theme=dark] .colab-df-convert:hover {\n",
              "      background-color: #434B5C;\n",
              "      box-shadow: 0px 1px 3px 1px rgba(0, 0, 0, 0.15);\n",
              "      filter: drop-shadow(0px 1px 2px rgba(0, 0, 0, 0.3));\n",
              "      fill: #FFFFFF;\n",
              "    }\n",
              "  </style>\n",
              "\n",
              "      <script>\n",
              "        const buttonEl =\n",
              "          document.querySelector('#df-323e3b71-2456-468a-97bd-310b6c4fe516 button.colab-df-convert');\n",
              "        buttonEl.style.display =\n",
              "          google.colab.kernel.accessAllowed ? 'block' : 'none';\n",
              "\n",
              "        async function convertToInteractive(key) {\n",
              "          const element = document.querySelector('#df-323e3b71-2456-468a-97bd-310b6c4fe516');\n",
              "          const dataTable =\n",
              "            await google.colab.kernel.invokeFunction('convertToInteractive',\n",
              "                                                     [key], {});\n",
              "          if (!dataTable) return;\n",
              "\n",
              "          const docLinkHtml = 'Like what you see? Visit the ' +\n",
              "            '<a target=\"_blank\" href=https://colab.research.google.com/notebooks/data_table.ipynb>data table notebook</a>'\n",
              "            + ' to learn more about interactive tables.';\n",
              "          element.innerHTML = '';\n",
              "          dataTable['output_type'] = 'display_data';\n",
              "          await google.colab.output.renderOutput(dataTable, element);\n",
              "          const docLink = document.createElement('div');\n",
              "          docLink.innerHTML = docLinkHtml;\n",
              "          element.appendChild(docLink);\n",
              "        }\n",
              "      </script>\n",
              "    </div>\n",
              "  </div>\n",
              "  "
            ]
          },
          "metadata": {},
          "execution_count": 33
        }
      ]
    },
    {
      "cell_type": "code",
      "source": [
        "Category = pd.read_csv(\"/content/sample_data/list_of_categories.csv\",\"r\")\n",
        "Category.describe()"
      ],
      "metadata": {
        "colab": {
          "base_uri": "https://localhost:8080/",
          "height": 230
        },
        "id": "rJIEwKhG8L_2",
        "outputId": "9f61c9b9-f87e-4009-e7c5-eaf84ee62f4a"
      },
      "execution_count": 34,
      "outputs": [
        {
          "output_type": "stream",
          "name": "stderr",
          "text": [
            "/usr/local/lib/python3.7/dist-packages/IPython/core/interactiveshell.py:3326: FutureWarning: In a future version of pandas all arguments of read_csv except for the argument 'filepath_or_buffer' will be keyword-only\n",
            "  exec(code_obj, self.user_global_ns, self.user_ns)\n"
          ]
        },
        {
          "output_type": "execute_result",
          "data": {
            "text/plain": [
              "       Commodity,Catego   y\n",
              "count                23  18\n",
              "unique               23   4\n",
              "top     NATURAL GAS,Ene  gy\n",
              "freq                  1   6"
            ],
            "text/html": [
              "\n",
              "  <div id=\"df-1e4aa739-55d1-462e-a72e-f7e11c21668f\">\n",
              "    <div class=\"colab-df-container\">\n",
              "      <div>\n",
              "<style scoped>\n",
              "    .dataframe tbody tr th:only-of-type {\n",
              "        vertical-align: middle;\n",
              "    }\n",
              "\n",
              "    .dataframe tbody tr th {\n",
              "        vertical-align: top;\n",
              "    }\n",
              "\n",
              "    .dataframe thead th {\n",
              "        text-align: right;\n",
              "    }\n",
              "</style>\n",
              "<table border=\"1\" class=\"dataframe\">\n",
              "  <thead>\n",
              "    <tr style=\"text-align: right;\">\n",
              "      <th></th>\n",
              "      <th>Commodity,Catego</th>\n",
              "      <th>y</th>\n",
              "    </tr>\n",
              "  </thead>\n",
              "  <tbody>\n",
              "    <tr>\n",
              "      <th>count</th>\n",
              "      <td>23</td>\n",
              "      <td>18</td>\n",
              "    </tr>\n",
              "    <tr>\n",
              "      <th>unique</th>\n",
              "      <td>23</td>\n",
              "      <td>4</td>\n",
              "    </tr>\n",
              "    <tr>\n",
              "      <th>top</th>\n",
              "      <td>NATURAL GAS,Ene</td>\n",
              "      <td>gy</td>\n",
              "    </tr>\n",
              "    <tr>\n",
              "      <th>freq</th>\n",
              "      <td>1</td>\n",
              "      <td>6</td>\n",
              "    </tr>\n",
              "  </tbody>\n",
              "</table>\n",
              "</div>\n",
              "      <button class=\"colab-df-convert\" onclick=\"convertToInteractive('df-1e4aa739-55d1-462e-a72e-f7e11c21668f')\"\n",
              "              title=\"Convert this dataframe to an interactive table.\"\n",
              "              style=\"display:none;\">\n",
              "        \n",
              "  <svg xmlns=\"http://www.w3.org/2000/svg\" height=\"24px\"viewBox=\"0 0 24 24\"\n",
              "       width=\"24px\">\n",
              "    <path d=\"M0 0h24v24H0V0z\" fill=\"none\"/>\n",
              "    <path d=\"M18.56 5.44l.94 2.06.94-2.06 2.06-.94-2.06-.94-.94-2.06-.94 2.06-2.06.94zm-11 1L8.5 8.5l.94-2.06 2.06-.94-2.06-.94L8.5 2.5l-.94 2.06-2.06.94zm10 10l.94 2.06.94-2.06 2.06-.94-2.06-.94-.94-2.06-.94 2.06-2.06.94z\"/><path d=\"M17.41 7.96l-1.37-1.37c-.4-.4-.92-.59-1.43-.59-.52 0-1.04.2-1.43.59L10.3 9.45l-7.72 7.72c-.78.78-.78 2.05 0 2.83L4 21.41c.39.39.9.59 1.41.59.51 0 1.02-.2 1.41-.59l7.78-7.78 2.81-2.81c.8-.78.8-2.07 0-2.86zM5.41 20L4 18.59l7.72-7.72 1.47 1.35L5.41 20z\"/>\n",
              "  </svg>\n",
              "      </button>\n",
              "      \n",
              "  <style>\n",
              "    .colab-df-container {\n",
              "      display:flex;\n",
              "      flex-wrap:wrap;\n",
              "      gap: 12px;\n",
              "    }\n",
              "\n",
              "    .colab-df-convert {\n",
              "      background-color: #E8F0FE;\n",
              "      border: none;\n",
              "      border-radius: 50%;\n",
              "      cursor: pointer;\n",
              "      display: none;\n",
              "      fill: #1967D2;\n",
              "      height: 32px;\n",
              "      padding: 0 0 0 0;\n",
              "      width: 32px;\n",
              "    }\n",
              "\n",
              "    .colab-df-convert:hover {\n",
              "      background-color: #E2EBFA;\n",
              "      box-shadow: 0px 1px 2px rgba(60, 64, 67, 0.3), 0px 1px 3px 1px rgba(60, 64, 67, 0.15);\n",
              "      fill: #174EA6;\n",
              "    }\n",
              "\n",
              "    [theme=dark] .colab-df-convert {\n",
              "      background-color: #3B4455;\n",
              "      fill: #D2E3FC;\n",
              "    }\n",
              "\n",
              "    [theme=dark] .colab-df-convert:hover {\n",
              "      background-color: #434B5C;\n",
              "      box-shadow: 0px 1px 3px 1px rgba(0, 0, 0, 0.15);\n",
              "      filter: drop-shadow(0px 1px 2px rgba(0, 0, 0, 0.3));\n",
              "      fill: #FFFFFF;\n",
              "    }\n",
              "  </style>\n",
              "\n",
              "      <script>\n",
              "        const buttonEl =\n",
              "          document.querySelector('#df-1e4aa739-55d1-462e-a72e-f7e11c21668f button.colab-df-convert');\n",
              "        buttonEl.style.display =\n",
              "          google.colab.kernel.accessAllowed ? 'block' : 'none';\n",
              "\n",
              "        async function convertToInteractive(key) {\n",
              "          const element = document.querySelector('#df-1e4aa739-55d1-462e-a72e-f7e11c21668f');\n",
              "          const dataTable =\n",
              "            await google.colab.kernel.invokeFunction('convertToInteractive',\n",
              "                                                     [key], {});\n",
              "          if (!dataTable) return;\n",
              "\n",
              "          const docLinkHtml = 'Like what you see? Visit the ' +\n",
              "            '<a target=\"_blank\" href=https://colab.research.google.com/notebooks/data_table.ipynb>data table notebook</a>'\n",
              "            + ' to learn more about interactive tables.';\n",
              "          element.innerHTML = '';\n",
              "          dataTable['output_type'] = 'display_data';\n",
              "          await google.colab.output.renderOutput(dataTable, element);\n",
              "          const docLink = document.createElement('div');\n",
              "          docLink.innerHTML = docLinkHtml;\n",
              "          element.appendChild(docLink);\n",
              "        }\n",
              "      </script>\n",
              "    </div>\n",
              "  </div>\n",
              "  "
            ]
          },
          "metadata": {},
          "execution_count": 34
        }
      ]
    },
    {
      "cell_type": "markdown",
      "source": [
        "**4) Describe el conjunto de datos. ¿Qué datos contiene?**\n",
        "\n",
        "*Una serie de datos diarios de precios de 23 commodities dentro de 6 diferentes categorías: Energía, metales industriales, metales preciosos, granos, ganado y commodities suaves (café, azúcar y algodón).*\n"
      ],
      "metadata": {
        "id": "qAUmEWfwzcUi"
      }
    },
    {
      "cell_type": "markdown",
      "source": [
        "**5) ¿Cuáles son algunas de las preguntas de investigación que podría responder con estos datos? Enumere al menos OCHO (no responda las preguntas).**"
      ],
      "metadata": {
        "id": "5OxLNWgDzffE"
      }
    },
    {
      "cell_type": "markdown",
      "source": [
        "*1.-¿Los movimientos en los precios son replicados en la misma proporción en commodities dentro de la misma categoría?*\n",
        "\n",
        "*2.-¿Los precios más altos/bajos se presentan en el mismo año para todos los commodities por categoría?*\n",
        "\n",
        "*3.-¿Hay algún trimestre específico donde los precios suben más?*\n",
        "\n",
        "*4.-¿Cada cuántos años hay un repunte significativo en los precios?*\n",
        "\n",
        "*5.-¿Hubo algún año donde los precios alcanzaron un punto máximo/mínimo?*\n",
        "\n",
        "*6.-¿Hay tendencias claras en las diferentes categorías?*\n",
        "\n",
        "*7.-¿Cuáles son los commodities con mayor fluctuación?*\n",
        "\n",
        "*8.-¿Cuáles son los commodities más estables?*\n",
        "\n",
        "*9.-¿Cómo se comportaron los commodities en las crisis de 2008 y 2020?*"
      ],
      "metadata": {
        "id": "cipOig-22gpj"
      }
    },
    {
      "cell_type": "markdown",
      "source": [
        "**6) ¿Qué actor (empresa, sector de la sociedad, organismo descentralizado, gobierno, etc.) estaría interesado en las preguntas mencionadas que identificó?**"
      ],
      "metadata": {
        "id": "6OIihQRIzra_"
      }
    },
    {
      "cell_type": "markdown",
      "source": [
        "*1.- Comercializadoras de granos*\n",
        "\n",
        "*2.- Empresas ganaderas*\n",
        "\n",
        "*3.- Refinerías*\n",
        "\n",
        "*4.- Bancos*\n",
        "\n",
        "*5.- Fabricantes de partes automotrices*"
      ],
      "metadata": {
        "id": "U3kOpZkz2l4n"
      }
    }
  ]
}