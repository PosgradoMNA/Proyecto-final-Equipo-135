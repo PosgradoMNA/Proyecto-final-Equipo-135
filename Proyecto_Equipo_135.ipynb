{
  "nbformat": 4,
  "nbformat_minor": 0,
  "metadata": {
    "colab": {
      "provenance": [],
      "collapsed_sections": [],
      "authorship_tag": "ABX9TyMYNE+SJOebxa7NOLRjIA/D",
      "include_colab_link": true
    },
    "kernelspec": {
      "name": "python3",
      "display_name": "Python 3"
    },
    "language_info": {
      "name": "python"
    }
  },
  "cells": [
    {
      "cell_type": "markdown",
      "metadata": {
        "id": "view-in-github",
        "colab_type": "text"
      },
      "source": [
        "<a href=\"https://colab.research.google.com/github/PosgradoMNA/actividades-del-projecto-equipo-135/blob/main/Proyecto_Equipo_135.ipynb\" target=\"_parent\"><img src=\"https://colab.research.google.com/assets/colab-badge.svg\" alt=\"Open In Colab\"/></a>"
      ]
    },
    {
      "cell_type": "markdown",
      "source": [
        "# **Proyecto Final - Avance 1**\n",
        "\n",
        "---\n",
        "\n",
        "###Equipo 135\n",
        "\n",
        "######Emmanuel Domínguez - Matrícula A01793683\n",
        "######José Ariel Corral León - Matrícula A01793546\n",
        "---\n",
        "\n",
        "**Estudio de base de datos relacionados a un problema económico**\n",
        "\n",
        "**1) Nombre que caracteriza el conjunto de datos**\n",
        "\n",
        "*Commodity Prices Dataset (2000 - 2022)*\n",
        "\n",
        "**2) Organización que lo generó.**\n",
        "\n",
        "*Generada por fuentes múltiples en Internet de acuerdo al sitio de Kaggle.*\n",
        "\n",
        "**3) Enlace de Internet donde se puedan descargar el base de datos en línea**\n",
        "\n",
        "*Liga a base de datos en Kaggle*\n",
        "https://www.kaggle.com/datasets/debashish311601/commodity-prices\n",
        "\n",
        "\n",
        "**4) Describe el conjunto de datos. ¿Qué datos contiene?**\n",
        "\n",
        "*Una serie de datos diarios de precios de 23 commodities dentro de 6 diferentes categorías: Energía, metales industriales, metales preciosos, granos, ganado y commodities suaves (café, azúcar y algodón).*\n",
        "\n",
        "**5) ¿Cuáles son algunas de las preguntas de investigación que podría responder con estos datos? Enumere al menos OCHO (no responda las preguntas).**\n",
        "\n",
        "*1. ¿Los movimientos en los precios son replicados en la misma proporción en commodities dentro de la misma categoría?*\n",
        "*2. ¿Los precios más altos/bajos se presentan en el mismo año para todos los commodities por categoría?*\n",
        "*3. ¿Hay algún trimestre específico donde los precios suben más?*\n",
        "*4. ¿Cada cuántos años hay un repunte significativo en los precios?*\n",
        "*5. ¿Hubo algún año donde los precios alcanzaron un punto máximo/mínimo?*\n",
        "*6. ¿Hay tendencias claras en las diferentes categorías?*\n",
        "*7. ¿Cuáles son los commodities con mayor fluctuación?*\n",
        "*8. ¿Cuáles son los commodities más estables?*\n",
        "*9. ¿Cómo se comportaron los commodities en las crisis de 2008 y 2020?*\n",
        "\n",
        "\n",
        "**6) ¿Qué actor (empresa, sector de la sociedad, organismo descentralizado, gobierno, etc.) estaría interesado en las preguntas mencionadas que identificó?**\n",
        "\n",
        "*1. Comercializadoras de granos*\n",
        "*2. Empresas ganaderas*\n",
        "*3. Refinerías*\n",
        "*4. Bancos\n",
        "*5. Fabricantes de partes automotrices*"
      ],
      "metadata": {
        "id": "At9_0DEew3FY"
      }
    },
    {
      "cell_type": "code",
      "source": [],
      "metadata": {
        "id": "x63waK3DxlKp"
      },
      "execution_count": null,
      "outputs": []
    }
  ]
}