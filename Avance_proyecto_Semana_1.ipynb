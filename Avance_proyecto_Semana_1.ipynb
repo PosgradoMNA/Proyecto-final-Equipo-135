{
 "cells": [
  {
   "cell_type": "markdown",
   "metadata": {
    "id": "3wKYUt1GXWSR"
   },
   "source": [
    "# Proyecto final - Avance 1\n",
    "## Equipo 135\n",
    "### Emmanuel Domínguez - Matrícula A01793683\n",
    "### José Ariel Corral León - Matrícula A01793546"
   ]
  },
  {
   "cell_type": "markdown",
   "metadata": {
    "id": "nKnfguqpXZGi"
   },
   "source": [
    "Estudio de base de datos"
   ]
  },
  {
   "cell_type": "markdown",
   "metadata": {},
   "source": [
    "1) El nombre que caracteriza el conjunto de datos\n",
    "Nombre de conjunto de datos: Commodity Prices Dataset (2000 - 2022)\n",
    "\n",
    "2) La organización que lo generó.\n",
    "Generada por fuentes múltiples en Internet de acuerdo al sitio de Kaggle. \n",
    "\n",
    "3) Incluya un enlace de Internet donde se puedan descargar el base de datos en línea\n",
    "\n",
    "[Liga a base de datos en Kaggle](https://www.kaggle.com/datasets/debashish311601/commodity-prices)\n",
    "\n",
    "4) Describe el conjunto de datos. ¿Qué datos contiene?\n",
    "Una serie de datos diarios de precios de 23 commodities dentro de 6 diferentes categorías: Energía, metales industriales, metales preciosos, granos, ganado y commodities suaves (café, azúcar y algodón).\n",
    "\n",
    "\n",
    "5) ¿Cuáles son algunas de las preguntas de investigación que podría responder con estos datos? Enumere al menos OCHO (no responda las preguntas).\n",
    "\n",
    "    1. ¿Los movimientos en los precios son replicados en la misma proporción en commodities dentro de la misma categoría?\n",
    "    2. ¿Los precios más altos/bajos se presentan en el mismo año para todos los commodities por categoría?\n",
    "    3. ¿Hay algún trimestre específico donde los precios suben más?\n",
    "    4. ¿Cada cuántos años hay un repunte en los precios?\n",
    "    5. ¿Hubo algún año donde los precios alcanzaron un punto máximo/mínimo?\n",
    "    6. ¿Hay tendencias claras en las diferentes categorías?\n",
    "    7. ¿Cuáles son los commodities con mayor fluctuación?\n",
    "    8. ¿Cuáles son los commodities más estables?\n",
    "    9. ¿Cómo se comportaron los commodities en las crisis de 2008 y 2020?\n",
    "    \n",
    "\n",
    "6) ¿Qué actor (empresa, sector de la sociedad, organismo descentralizado, gobierno, etc.) estaría interesado en las preguntas mencionadas que identificó?\n",
    "\n",
    "    1. Comercializadoras de granos\n",
    "    2. Empresas ganaderas\n",
    "    3. Refinerías\n",
    "    4. Bancos\n",
    "    5. Fabricantes de partes automotrices\n"
   ]
  },
  {
   "cell_type": "code",
   "execution_count": null,
   "metadata": {},
   "outputs": [],
   "source": []
  }
 ],
 "metadata": {
  "colab": {
   "provenance": []
  },
  "kernelspec": {
   "display_name": "Python 3 (ipykernel)",
   "language": "python",
   "name": "python3"
  },
  "language_info": {
   "codemirror_mode": {
    "name": "ipython",
    "version": 3
   },
   "file_extension": ".py",
   "mimetype": "text/x-python",
   "name": "python",
   "nbconvert_exporter": "python",
   "pygments_lexer": "ipython3",
   "version": "3.9.7"
  }
 },
 "nbformat": 4,
 "nbformat_minor": 1
}
